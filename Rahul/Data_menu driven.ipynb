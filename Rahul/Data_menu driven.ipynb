{
  "cells": [
    {
      "metadata": {
        "trusted": true
      },
      "cell_type": "code",
      "source": "import numpy as np\nimport pandas as pd\nfrom numpy.linalg import eig\nfrom sklearn.preprocessing import Imputer\nfrom future_encoders import OrdinalEncoder,OneHotEncoder",
      "execution_count": 1,
      "outputs": []
    },
    {
      "metadata": {
        "trusted": true
      },
      "cell_type": "code",
      "source": "print(\"Welcome to Dashboard\")\nprint(\"\")\nurl = input(\"Enter the url for the data (CSV Format): \")\nop_count = 0\nflag = 0\nans = 0\ncat_flag=0\nnum_flag=0\nch = 0\nch_num = 0\nmissing = []\nmis_flag = 0\nstrat_ch = 0",
      "execution_count": 5,
      "outputs": [
        {
          "output_type": "stream",
          "text": "Welcome to Dashboard\n\nEnter the url for the data (CSV Format): vif_bloodtest.csv\n",
          "name": "stdout"
        }
      ]
    },
    {
      "metadata": {
        "trusted": true
      },
      "cell_type": "code",
      "source": "data = pd.read_csv(url)\nprint('Data Type Summary: ')\nprint(\"\")\nprint(data.info())\nprint('-------------------------------------------------------------------------------------')\nprint('An Introduction to the data')\nprint(\"\")\nprint(data.head())\ncols = data.columns\nnum_cols = data._get_numeric_data().columns\ncat_cols = list(set(cols) - set(num_cols))\nnum_df = data[num_cols]\ncat_df = data[cat_cols]\nprint('-------------------------------------------------------------------------------------')\nprint('Identified numerical valued features: ')\nfor i in range(num_df.shape[1]):\n    print(num_df.columns[i])\n    num_flag = 1\nprint('-------------------------------------------------------------------------------------')\nprint('Identified categorical valued features')\nfor i in range(cat_df.shape[1]):\n    print(cat_df.columns[i])\n    cat_flag = 1\nprint('-------------------------------------------------------------------------------------')\n    \ndata_frame = data\nunique = data_frame[data_frame.columns[data_frame.shape[1]-1]].unique().tolist()\nprint(unique)",
      "execution_count": 6,
      "outputs": [
        {
          "output_type": "stream",
          "text": "Data Type Summary: \n\n<class 'pandas.core.frame.DataFrame'>\nRangeIndex: 20 entries, 0 to 19\nData columns (total 8 columns):\nPt        20 non-null int64\nBP        20 non-null int64\nAge       20 non-null int64\nWeight    20 non-null float64\nBSA       20 non-null float64\nDur       20 non-null float64\nPulse     20 non-null int64\nStress    20 non-null int64\ndtypes: float64(3), int64(5)\nmemory usage: 1.3 KB\nNone\n-------------------------------------------------------------------------------------\nAn Introduction to the data\n\n   Pt   BP  Age  Weight   BSA  Dur  Pulse  Stress\n0   1  105   47    85.4  1.75  5.1     63      33\n1   2  115   49    94.2  2.10  3.8     70      14\n2   3  116   49    95.3  1.98  8.2     72      10\n3   4  117   50    94.7  2.01  5.8     73      99\n4   5  112   51    89.4  1.89  7.0     72      95\n-------------------------------------------------------------------------------------\nIdentified numerical valued features: \nPt\nBP\nAge\nWeight\nBSA\nDur\nPulse\nStress\n-------------------------------------------------------------------------------------\nIdentified categorical valued features\n-------------------------------------------------------------------------------------\n[33, 14, 10, 99, 95, 42, 8, 62, 35, 90, 21, 47, 80, 98, 18, 12]\n",
          "name": "stdout"
        }
      ]
    },
    {
      "metadata": {
        "trusted": true,
        "scrolled": false
      },
      "cell_type": "code",
      "source": "def z_score_standardization(data):\n    for i in range(data.shape[1]):\n            x = data[:,i]\n            x_mean = np.mean(x)\n            x_stdev = np.sqrt(np.mean(np.square(x)) - np.square(x_mean))\n            z = (x - x_mean)/x_stdev\n            data[:,i] = z\n    return data\n\ndef max_min_normalization(data):\n    for j in range(data.shape[1]):\n            x = data[:,j]\n            x_min = min(x)\n            x_max = max(x)\n            x_maxmin = (x - x_min)/(x_max - x_min)\n            data[:,j] = x_maxmin\n    return data\n\ndef Multicollinearity_Analysis(data):\n    X = data[:,0:(data.shape[1]-1)]\n    Y = data[:,(data.shape[1]-1)]\n    corr_matrix = np.dot(X.T,X)/data.shape[0]\n    print('Correlation Matrix Analysis:')\n    print(\"\")\n    print(corr_matrix)\n    print(\"\")\n    print('Correlation Analysis between Pair Wise Regressors: ')\n    reg_count = 0\n    print(\"\")\n    for i in range((corr_matrix.shape[0])):\n        for j in range(i+1,corr_matrix.shape[1]):\n            if(abs(corr_matrix[i][j])>0.9 and corr_matrix[i][j]<0.99):\n                print('Regressors: '+data_frame.columns[i]+' '+data_frame.columns[j])\n                reg_count+=1\n    print(\"\")\n    if(reg_count==0):\n        print('No multicollinearity detected between pair wise regressors')\n        print(\"\")\n            \n    e1,e2 = eig(corr_matrix)\n    e1 = abs(e1)\n    index = np.argsort(e1)[::-1]\n    e2 = e2[:,index]\n    condition_number = e1[0]/e1[(corr_matrix.shape[0]-1)]\n    multicol=0\n    if(condition_number>1000):\n        multicol=1\n    else:\n        multicol=0\n    if(multicol==1):\n        print('Multicollinearity exists in the data (eigen system analysis)')\n    else:\n        print('The data is free from any multicollinearity issue (eigen system analysis)')\n    count=0\n    if(multicol==1):\n        for i in range(len(e1)):\n            if(e1[0]/e1[i]>=1000):\n                count+=1\n        print('Result Post Eigen System Analysis:')\n        print('Number of near linear dependencies in the data: '+str(count))\n        corr_matrix_inv = np.linalg.inv(corr_matrix)\n        vif_count=0\n        print('VIF Values:')\n        for i in range(len(corr_matrix_inv)):\n            print(corr_matrix_inv[i][i])\n            if(corr_matrix_inv[i][i]>=10):\n                vif_count+=1  \n        print(\"\")\n        print('Result Post VIF Analysis: ')\n        print('Number of regressors exhibiting near linear dependence: '+str(vif_count))\n    \n        \ndef cat_to_num(df,ch):\n    if ch==1:                                                                    \n        ordinal_encoder = OrdinalEncoder()\n        df_encoded = ordinal_encoder.fit_transform(df)\n        return df_encoded\n    elif ch==2:\n        onehot_encoder = OneHotEncoder(sparse=False)\n        df_1hot = onehot_encoder.fit_transform(df)\n        return df_1hot\n\ndef MVD(data_frame):\n    missing = data_frame.columns[data_frame.isna().any()].tolist()\n    data_matrix = data_frame.values\n    if(len(missing)==0):\n        print('The data does not contain any missing values')\n        mis_flag = 0\n    else:\n        print('The data contains missing values which should be handled')\n        mis_flag = 1\n        print(\"\")\n        print('The features with missing values: ')\n        for i in range(len(missing)):\n            print(missing[i])\n        print('-------------------------------------------------------------------------------------')\n        print(\"\")\n    if(mis_flag==1):\n        print('1: Mean')\n        print('2: Median')\n        print('3: Most Frequent')\n        strat_ch = int(input('Enter the strategy to be applied for handling the missing values in the detected features: '))\n        if(strat_ch==1):\n            imputer = Imputer(strategy = \"mean\")\n        elif(strat_ch==2):\n            imputer = Imputer(strategy = \"median\")\n        elif(strat_ch==3):\n            imputer = Imputer(strategy = \"most_frequent\")\n        imputer.fit(data_matrix)\n        data_matrix = imputer.transform(data_matrix)\n        print(\"\")\n        print('The missing values have been detected and handled')\n    print('-------------------------------------------------------------------------------------')\n    print(\"\")\n    return data_matrix\n\nif(cat_flag==1):\n    print('1: Label Encoding')\n    print('2: One-hot Encoding')\n    ch = int(input('Enter the operation you wish to perform on the categorical features: '))\n    print('-------------------------------------------------------------------------------------')\n    data_cat = cat_to_num(cat_df,ch)\n    if(ch==1):\n        print('The data has been ordinal/label encoded')\n        print('-------------------------------------------------------------------------------------')\n        print(\"\")\n    elif(ch==2):\n        print('The data has been one-hot encoded')\n        print('-------------------------------------------------------------------------------------')\n        print(\"\")\n        \nelif(cat_flag==0):\n    print('The data is devoid of any categorical features.')   \nprint('-------------------------------------------------------------------------------------')\nprint(\"\")\n\nprint('Performing missing value detection and handling on the numerical features: ')\ndata_matrix = MVD(num_df)\nprint('Scaling the numerical data: ')\nprint(\"\")\nprint('1: Z-Score standardization')\nprint('2: Max-min normalization')\nch_num = int(input('Choose the required scaling technique: '))\nif(ch_num==1):\n    data_matrix = z_score_standardization(data_matrix)\n    print('The data has been z-score standardized')\n    print('-------------------------------------------------------------------------------------')\nif(ch_num==2):\n    data_matrix = max_min_normalization(data_matrix)\n    print('The data has been max-min normalized')\n    print('-------------------------------------------------------------------------------------')\nprint(\"\")\nprint('Performing Multicollinearity Analysis:')\nMulticollinearity_Analysis(data_matrix)\n    ",
      "execution_count": 4,
      "outputs": [
        {
          "output_type": "stream",
          "text": "1: Label Encoding\n2: One-hot Encoding\nEnter the operation you wish to perform on the categorical features: 1\n-------------------------------------------------------------------------------------\nThe data has been ordinal/label encoded\n-------------------------------------------------------------------------------------\n\n-------------------------------------------------------------------------------------\n\nPerforming missing value detection and handling on the numerical features: \nThe data contains missing values which should be handled\n\nThe features with missing values: \ntotal_bedrooms\n-------------------------------------------------------------------------------------\n\n1: Mean\n2: Median\n3: Most Frequent\nEnter the strategy to be applied for handling the missing values in the detected features: 2\n\nThe missing values have been detected and handled\n-------------------------------------------------------------------------------------\n\nScaling the numerical data: \n\n1: Z-Score standardization\n2: Max-min normalization\nChoose the required scaling technique: 1\nThe data has been z-score standardized\n-------------------------------------------------------------------------------------\n\nPerforming Multicollinearity Analysis:\nCorrelation Matrix Analysis:\n\n[[ 1.         -0.92466443 -0.10819681  0.04456798  0.0691197   0.09977322\n   0.05531009 -0.01517587]\n [-0.92466443  1.          0.01117267 -0.0360996  -0.06648391 -0.10878475\n  -0.07103543 -0.07980913]\n [-0.10819681  0.01117267  1.         -0.3612622  -0.31902633 -0.29624424\n  -0.30291601 -0.11903399]\n [ 0.04456798 -0.0360996  -0.3612622   1.          0.9270582   0.85712597\n   0.91848449  0.19804965]\n [ 0.0691197  -0.06648391 -0.31902633  0.9270582   1.          0.87353486\n   0.97436629 -0.00761687]\n [ 0.09977322 -0.10878475 -0.29624424  0.85712597  0.87353486  1.\n   0.90722227  0.00483435]\n [ 0.05531009 -0.07103543 -0.30291601  0.91848449  0.97436629  0.90722227\n   1.          0.01303305]\n [-0.01517587 -0.07980913 -0.11903399  0.19804965 -0.00761687  0.00483435\n   0.01303305  1.        ]]\n\nCorrelation Analysis between Pair Wise Regressors: \n\nRegressors: longitude latitude\nRegressors: total_rooms total_bedrooms\nRegressors: total_rooms households\nRegressors: total_bedrooms households\nRegressors: population households\n\nThe data is free from any multicollinearity issue (eigen system analysis)\n",
          "name": "stdout"
        }
      ]
    },
    {
      "metadata": {
        "trusted": true
      },
      "cell_type": "code",
      "source": "",
      "execution_count": null,
      "outputs": []
    }
  ],
  "metadata": {
    "kernelspec": {
      "name": "python36",
      "display_name": "Python 3.6",
      "language": "python"
    },
    "language_info": {
      "mimetype": "text/x-python",
      "nbconvert_exporter": "python",
      "name": "python",
      "pygments_lexer": "ipython3",
      "version": "3.6.6",
      "file_extension": ".py",
      "codemirror_mode": {
        "version": 3,
        "name": "ipython"
      }
    }
  },
  "nbformat": 4,
  "nbformat_minor": 2
}